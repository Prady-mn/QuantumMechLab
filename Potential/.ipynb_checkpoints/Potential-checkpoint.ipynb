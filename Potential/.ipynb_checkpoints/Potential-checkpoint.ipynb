{
 "cells": [
  {
   "cell_type": "markdown",
   "id": "ad231d32",
   "metadata": {},
   "source": [
    "# LAB 4: Particle In A Potential\n",
    "**Date: 05-01-24,12-01-24**"
   ]
  },
  {
   "cell_type": "markdown",
   "id": "f9ecdedc",
   "metadata": {},
   "source": [
    "> **AIM:** <br>\n",
    ">  Consider a quantum particle of mass m confined to one-dimensional region of potential energy, $V(x)= \\frac{1}{2}m\\omega^2x^2$ , where $\\omega$ is angular frequency. Plot the wavefunction, probability density and energy level diagram of the particle in ground, first and second excited states. In the probability density plot, mark the turning points of the classical harmonic oscillator whose motion is confined between turning points at $x=−A$ and at $x=+A$."
   ]
  },
  {
   "cell_type": "code",
   "execution_count": 3,
   "id": "bc21ac72",
   "metadata": {},
   "outputs": [],
   "source": [
    "import numpy as np\n",
    "from scipy.constants import *\n",
    "from scipy.misc import derivative\n",
    "\n",
    "import matplotlib.pyplot as plt\n",
    "import ipywidgets as widgets\n",
    "import matplotlib.colors as mcolors\n",
    "import random\n",
    "from typing import Callable"
   ]
  },
  {
   "cell_type": "code",
   "execution_count": 2,
   "id": "3c2b2db1-c2d0-4795-b077-32ef10dfffae",
   "metadata": {},
   "outputs": [],
   "source": [
    "# Initialisation\n",
    "\n",
    "m,w = 1,pi\n",
    "A = 1\n",
    "resolution = 5\n",
    "x = np.linspace(-A,A,resolution)\n",
    "psi = np.zeros_like(x)\n"
   ]
  },
  {
   "cell_type": "code",
   "execution_count": 17,
   "id": "9e1cd9af",
   "metadata": {},
   "outputs": [],
   "source": [
    "#Funtions\n",
    "\n",
    "def V(x):\n",
    "    return 0.5*m*(w**2)*x**2\n",
    "def energy(n):\n",
    "    return (n+0.5)*hbar*w\n",
    "\n",
    "a = -hbar**2/2*m\n",
    "b = V(x) - E\n",
    "def waveEquation(V: Callable = lambda x:0):\n",
    "    (-hbar**2/2*m)*np.polyder(psi,2) + (V(psi))\n",
    "    return lambda psi: "
   ]
  },
  {
   "cell_type": "code",
   "execution_count": 5,
   "id": "67893386",
   "metadata": {},
   "outputs": [],
   "source": [
    "def waveFunction(E,m = 1,w = pi):\n",
    "    a = -hbar**2/2*m\n",
    "    b = V(x) - E\n",
    "    y = lambda x: \n",
    "    psi = lambda y,x: a*derivative(y,x,dx=1e-9,n=2)"
   ]
  },
  {
   "cell_type": "code",
   "execution_count": 16,
   "id": "128b17d8",
   "metadata": {},
   "outputs": [
    {
     "data": {
      "image/png": "[encoded data removed]",
      "text/plain": [
       "<Figure size 640x480 with 1 Axes>"
      ]
     },
     "metadata": {},
     "output_type": "display_data"
    }
   ],
   "source": [
    "x = np.linspace(-1,1,100);\n",
    "psi = np.ga\n",
    "plt.plot(X,list(map(V,X)))\n",
    "plt.show()"
   ]
  },
  {
   "cell_type": "code",
   "execution_count": null,
   "id": "87b3306d",
   "metadata": {},
   "outputs": [],
   "source": [
    "[],[x]"
   ]
  },
  {
   "cell_type": "code",
   "execution_count": null,
   "id": "f14a81c2-70a2-4c87-b3cf-118c0e5bc937",
   "metadata": {},
   "outputs": [],
   "source": []
  }
 ],
 "metadata": {
  "kernelspec": {
   "display_name": "Python 3 (ipykernel)",
   "language": "python",
   "name": "python3"
  },
  "language_info": {
   "codemirror_mode": {
    "name": "ipython",
    "version": 3
   },
   "file_extension": ".py",
   "mimetype": "text/x-python",
   "name": "python",
   "nbconvert_exporter": "python",
   "pygments_lexer": "ipython3",
   "version": "3.10.5"
  }
 },
 "nbformat": 4,
 "nbformat_minor": 5
}
