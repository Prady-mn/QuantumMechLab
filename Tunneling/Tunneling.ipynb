{
 "cells": [
  {
   "cell_type": "markdown",
   "id": "e3a16a04-35f7-453d-92e9-55ce1d3cc9cd",
   "metadata": {},
   "source": [
    "# LAB 4: Reflection, Transmission, Tunneling\n",
    "**Date: 02-02-23**"
   ]
  },
  {
   "cell_type": "markdown",
   "id": "ccb2e100-74d7-48e3-a788-10af921a8c69",
   "metadata": {},
   "source": [
    "> **AIM:** <br>\n",
    "> To study the reflected and transmitted wavefuntions & probability densities of a quantum particle of Energy $E$ incident on a rectangular potential barrier of height $V$. Also to investigate the effect of barrier thickness and understand the concept of tunnelling.t."
   ]
  },
  {
   "cell_type": "markdown",
   "id": "873da789-50b2-4f33-b711-7a0e52286132",
   "metadata": {},
   "source": [
    "> ##### \n",
    " "
   ]
  },
  {
   "cell_type": "code",
   "execution_count": 2,
   "id": "9cfa7208-cd40-40ca-9a70-6f6fbf7c6c28",
   "metadata": {},
   "outputs": [],
   "source": [
    "import numpy as np\n",
    "from scipy.constants import *\n",
    "\n",
    "\n",
    "import matplotlib.pyplot as plt\n",
    "import matplotlib.colors as mcolors\n",
    "import ipywidgets as widgets\n",
    "\n",
    "import random\n",
    "from fractions import Fraction"
   ]
  },
  {
   "cell_type": "code",
   "execution_count": 12,
   "id": "678e7ba2-e9a2-48cd-be23-4a610b8b8213",
   "metadata": {},
   "outputs": [],
   "source": [
    "E,V,A = 5,10,0.5;\n",
    "\n",
    "def potential(x):\n",
    "    return E if(x<=A) else V"
   ]
  },
  {
   "cell_type": "code",
   "execution_count": 14,
   "id": "c788fec5-247d-42d6-8b30-372517592907",
   "metadata": {},
   "outputs": [
    {
     "data": {
      "text/plain": [
       "5"
      ]
     },
     "execution_count": 14,
     "metadata": {},
     "output_type": "execute_result"
    }
   ],
   "source": []
  },
  {
   "cell_type": "code",
   "execution_count": null,
   "id": "2264fdcc-6dcd-4b19-a5dc-c3d9cdc0eaa0",
   "metadata": {},
   "outputs": [],
   "source": []
  }
 ],
 "metadata": {
  "kernelspec": {
   "display_name": "Python 3 (ipykernel)",
   "language": "python",
   "name": "python3"
  },
  "language_info": {
   "codemirror_mode": {
    "name": "ipython",
    "version": 3
   },
   "file_extension": ".py",
   "mimetype": "text/x-python",
   "name": "python",
   "nbconvert_exporter": "python",
   "pygments_lexer": "ipython3",
   "version": "3.10.5"
  },
  "widgets": {
   "application/vnd.jupyter.widget-state+json": {
    "state": {},
    "version_major": 2,
    "version_minor": 0
   }
  }
 },
 "nbformat": 4,
 "nbformat_minor": 5
}
