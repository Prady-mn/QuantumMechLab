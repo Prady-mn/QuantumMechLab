{
 "cells": [
  {
   "cell_type": "markdown",
   "id": "e3a16a04-35f7-453d-92e9-55ce1d3cc9cd",
   "metadata": {},
   "source": [
    "# LAB 4: Reflection, Transmission, Tunneling\n",
    "**Date: 02-02-23**"
   ]
  },
  {
   "cell_type": "markdown",
   "id": "ccb2e100-74d7-48e3-a788-10af921a8c69",
   "metadata": {},
   "source": [
    "> **AIM:** <br>\n",
    "> To study the reflected and transmitted wavefuntions & probability densities of a quantum particle of Energy $E$ incident on a rectangular potential barrier of height $V$. Also to investigate the effect of barrier thickness and understand the concept of tunnelling.t."
   ]
  },
  {
   "cell_type": "markdown",
   "id": "873da789-50b2-4f33-b711-7a0e52286132",
   "metadata": {},
   "source": [
    "> ##### \n",
    " "
   ]
  },
  {
   "cell_type": "code",
   "execution_count": 1,
   "id": "9cfa7208-cd40-40ca-9a70-6f6fbf7c6c28",
   "metadata": {},
   "outputs": [],
   "source": [
    "import numpy as np\n",
    "from scipy.constants import *\n",
    "from scipy.misc import derivative\n",
    "\n",
    "\n",
    "import matplotlib.pyplot as plt\n",
    "import matplotlib.colors as mcolors\n",
    "import ipywidgets as widgets\n",
    "\n",
    "import random\n",
    "from fractions import Fraction"
   ]
  },
  {
   "cell_type": "code",
   "execution_count": 16,
   "id": "678e7ba2-e9a2-48cd-be23-4a610b8b8213",
   "metadata": {},
   "outputs": [],
   "source": [
    "E,Vb = 5,7\n",
    "barrier = (0.5,0.7);\n",
    "x_lim = (0,1);\n",
    "res = 200\n",
    "\n",
    "def V(x,barrier = (0.5,0.7)):\n",
    "    assert barrier[0] < barrier[1]\n",
    "    return Vb if(barrier[0] < x  < barrier[1]) else 0\n",
    "\n",
    "def wavePacket(E,x0 = 0.2,dist = 0.01 ,x_lim = (0,1)):\n",
    "    return E*np.exp(-0.5*((np.linspace(*x_lim,res) - x0)/dist)**2)\n",
    "def waveFunction(E,Vb,barrier):\n",
    "    psi1 \n",
    "\n",
    "    return psi;"
   ]
  },
  {
   "cell_type": "code",
   "execution_count": 17,
   "id": "c788fec5-247d-42d6-8b30-372517592907",
   "metadata": {},
   "outputs": [],
   "source": [
    "def myDerivatie(x,n = 1):\n",
    "    return np.append(np.diff(x,n),[0]*n)\n"
   ]
  },
  {
   "cell_type": "code",
   "execution_count": 18,
   "id": "2264fdcc-6dcd-4b19-a5dc-c3d9cdc0eaa0",
   "metadata": {},
   "outputs": [
    {
     "data": {
      "image/png": "[encoded data removed]",
      "text/plain": [
       "<Figure size 640x480 with 1 Axes>"
      ]
     },
     "metadata": {},
     "output_type": "display_data"
    }
   ],
   "source": [
    "fig = plt.figure()\n",
    "\n",
    "\n",
    "\n",
    "X = np.linspace(*x_lim,res)\n",
    "psi = wavePacket(E)\n",
    "\n",
    "\n",
    "plt.plot(X,list(map(V,X)), label = \"Potential\")\n",
    "plt.plot(X,psi, label = \"Wave Function\")\n",
    "#plt.plot(X,myDerivatie(psi))\n",
    "#plt.plot(X,myDerivatie(psi,2))\n",
    "#plt.plot(X,myDerivatie(psi,20))\n",
    "\n",
    "plt.xlim(x_lim)\n",
    "plt.axhline(color = \"black\")\n",
    "plt.grid()\n",
    "plt.legend()\n",
    "\n",
    "plt.show()"
   ]
  },
  {
   "cell_type": "markdown",
   "id": "90b8bfbc-62d1-4e01-b061-b970b817b31f",
   "metadata": {},
   "source": [
    " a half-step in $x$: $\\psi_n \\longleftarrow \\psi_n \\exp[-i (\\Delta t / 2) (V_n / \\hbar)]$\n",
    "\n",
    "$\\widetilde{\\psi}_m$ from $\\psi_n$ using the FFT.\n",
    "\n",
    " full-step in $k$: $\\widetilde{\\psi}_m \\longleftarrow \\widetilde{\\psi}_m \\exp[-i \\hbar (k \\cdot k) \\Delta t / (2 m)]$\n",
    "\n",
    " $\\psi_n$ from $\\widetilde{\\psi}_m$ using the inverse FFT.\n",
    "\n",
    " a second half-step in $x$: $\\psi_n \\longleftarrow \\psi_n \\exp[-i (\\Delta t / 2)(V_n / \\hbar)]$"
   ]
  },
  {
   "cell_type": "code",
   "execution_count": null,
   "id": "f30048f2-4d47-4b4f-81e3-58cd74fa1077",
   "metadata": {},
   "outputs": [],
   "source": []
  },
  {
   "cell_type": "code",
   "execution_count": null,
   "id": "9ba25c5a-70c5-4d46-9711-5c0640fc1163",
   "metadata": {},
   "outputs": [],
   "source": []
  }
 ],
 "metadata": {
  "kernelspec": {
   "display_name": "Python 3 (ipykernel)",
   "language": "python",
   "name": "python3"
  },
  "language_info": {
   "codemirror_mode": {
    "name": "ipython",
    "version": 3
   },
   "file_extension": ".py",
   "mimetype": "text/x-python",
   "name": "python",
   "nbconvert_exporter": "python",
   "pygments_lexer": "ipython3",
   "version": "3.10.5"
  },
  "widgets": {
   "application/vnd.jupyter.widget-state+json": {
    "state": {},
    "version_major": 2,
    "version_minor": 0
   }
  }
 },
 "nbformat": 4,
 "nbformat_minor": 5
}
